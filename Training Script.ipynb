{
  "cells": [
    {
      "cell_type": "code",
      "execution_count": null,
      "metadata": {
        "gather": {
          "logged": 1749047093083
        }
      },
      "outputs": [
        {
          "name": "stdout",
          "output_type": "stream",
          "text": [
            "australiaeast : ml-course-group\n"
          ]
        }
      ],
      "source": [
        "from azure.ai.ml import MLClient\n",
        "from azure.identity import DefaultAzureCredential\n",
        "\n",
        "# authenticate\n",
        "credential = DefaultAzureCredential()\n",
        "\n",
        "SUBSCRIPTION = \"NEED_TO_ADD\"\n",
        "RESOURCE_GROUP = \"NEED_TO_ADD\"\n",
        "WS_NAME = \"NEED_TO_ADD\"\n",
        "# Get a handle to the workspace\n",
        "ml_client = MLClient(\n",
        "    credential=credential,\n",
        "    subscription_id=SUBSCRIPTION,\n",
        "    resource_group_name=RESOURCE_GROUP,\n",
        "    workspace_name=WS_NAME,\n",
        ")\n",
        "\n",
        "# Verify that the handle works correctly.\n",
        "# If you ge an error here, modify your SUBSCRIPTION, RESOURCE_GROUP, and WS_NAME in the previous cell.\n",
        "ws = ml_client.workspaces.get(WS_NAME)\n",
        "print(ws.location, \":\", ws.resource_group)"
      ]
    },
    {
      "cell_type": "code",
      "execution_count": null,
      "metadata": {
        "gather": {
          "logged": 1749060143704
        }
      },
      "outputs": [],
      "source": [
        "from azure.ai.ml import command\n",
        "from azure.ai.ml import Input, Output\n",
        "from azure.ai.ml.constants import AssetTypes\n",
        "\n",
        "model_name=\"fasterrcnn\"\n",
        "register_model_name = model_name + \"_weed_detection_final_binary\"\n",
        "\n",
        "# Define paths to the training and testing datasets\n",
        "train_input = Input(\n",
        "    type=AssetTypes.URI_FILE,\n",
        "    # path=\"FULL_PATH_/generalized_GOB/gob_train_converted.json\"\n",
        "    path=\"FULL_PATH_/generalized_GOB/student_annotation_converted_train.json\"\n",
        ")\n",
        "\n",
        "test_input = Input(\n",
        "    type=AssetTypes.URI_FILE,\n",
        "    # path=\"FULL_PATH_generalized_GOB/gob_test_converted.json\"\n",
        "    path=\"FULL_PATH_generalized_GOB/student_annotation_converted_val.json\"\n",
        ")\n",
        "\n",
        "# Define the main job execution\n",
        "job = command(\n",
        "    inputs=dict(\n",
        "        model=model_name,\n",
        "        data_path=train_input,  # Path to the training dataset\n",
        "        train_annotations=train_input,  # Path to the training annotations\n",
        "        test_annotations=test_input,  # Path to the test annotations\n",
        "        image_root=\"FULL_PATH_/azureml/datasets/generalized_GOB/\",  # Image root URL\n",
        "        epochs=32,\n",
        "        batch_size=8,\n",
        "        lr=0.001, \n",
        "        weight_decay=0.00005,\n",
        "        step_size=6,\n",
        "        gamma=0.6,\n",
        "        num_classes=2,  # 6 classes in case\n",
        "    ),\n",
        "    code=\"./\",  # Specify the location of the training script\n",
        "    outputs={\n",
        "        \"output_dir\": Output(type=\"uri_folder\", path=\"FULL_PATH_/\")\n",
        "    },\n",
        "    command=(\n",
        "        \"python train.py \"\n",
        "        \"--model ${{inputs.model}} \"  # Pass the model\n",
        "        \"--train_annotations ${{inputs.train_annotations}} \"  # Pass the training annotations\n",
        "        \"--test_annotations ${{inputs.test_annotations}} \"  # Pass the test annotations\n",
        "        \"--data-path ${{inputs.data_path}} \"  # Pass the data path here\n",
        "        \"--image_root ${{inputs.image_root}} \"  # Pass the image root URL\n",
        "        \"--epochs ${{inputs.epochs}} \"\n",
        "        \"--batch-size ${{inputs.batch_size}} \"\n",
        "        \"--lr ${{inputs.lr}} \"\n",
        "        \"--weight-decay ${{inputs.weight_decay}} \"\n",
        "        \"--step-size ${{inputs.step_size}} \"\n",
        "        \"--gamma ${{inputs.gamma}} \"\n",
        "        \"--num-classes ${{inputs.num_classes}} \"\n",
        "        \"--output-dir ${{outputs.output_dir}}\"\n",
        "    ),\n",
        "    environment=\"azureml://registries/azureml/environments/acpt-pytorch-2.2-cuda12.1/versions/33\",  # Specify the environment to use\n",
        "    display_name=model_name + \"_weed_detection_final_binary\",\n",
        "    compute=\"shahd-gpu\",\n",
        ")"
      ]
    },
    {
      "cell_type": "code",
      "execution_count": 5,
      "metadata": {
        "gather": {
          "logged": 1749060153520
        }
      },
      "outputs": [
        {
          "name": "stderr",
          "output_type": "stream",
          "text": [
            "\u001b[32mUploading jacobs_modded (0.09 MBs): 100%|██████████| 93364/93364 [00:00<00:00, 3528250.54it/s]\n",
            "\u001b[39m\n",
            "\n",
            "pathOnCompute is not a known attribute of class <class 'azure.ai.ml._restclient.v2023_04_01_preview.models._models_py3.UriFolderJobOutput'> and will be ignored\n"
          ]
        },
        {
          "data": {
            "text/html": [
              "<table style=\"width:100%\"><tr><th>Experiment</th><th>Name</th><th>Type</th><th>Status</th><th>Details Page</th></tr><tr><td>jacobs_modded</td><td>icy_salt_df505xz5w6</td><td>command</td><td>Starting</td><td><a href=\"https://ml.azure.com/runs/icy_salt_df505xz5w6?wsid=/subscriptions/e5e26ce6-a1ba-4292-b353-7fa59386c2b9/resourcegroups/ml-course-group/workspaces/ml-course-dev&amp;tid=30472b57-d9f2-48ff-8764-1cd6c22c9a7d\" target=\"_blank\" rel=\"noopener\">Link to Azure Machine Learning studio</a></td></tr></table>"
            ],
            "text/plain": [
              "Command({'parameters': {}, 'init': False, 'name': 'icy_salt_df505xz5w6', 'type': 'command', 'status': 'Starting', 'log_files': None, 'description': None, 'tags': {}, 'properties': {'_azureml.ComputeTargetType': 'amlcdsi', '_azureml.ClusterName': 'shahd-gpu', 'ContentSnapshotId': 'ebfb6f62-7b92-4c8b-900c-0284d503516a'}, 'print_as_yaml': False, 'id': '/subscriptions/e5e26ce6-a1ba-4292-b353-7fa59386c2b9/resourceGroups/ml-course-group/providers/Microsoft.MachineLearningServices/workspaces/ml-course-dev/jobs/icy_salt_df505xz5w6', 'Resource__source_path': '', 'base_path': '/mnt/batch/tasks/shared/LS_root/mounts/clusters/shahd-gpu/code/Users/shahd.sumrain/jacobs_modded', 'creation_context': <azure.ai.ml.entities._system_data.SystemData object at 0x70696ffeb0d0>, 'serialize': <msrest.serialization.Serializer object at 0x70692ff303d0>, 'allowed_keys': {}, 'key_restriction': False, 'logger': <Logger attr_dict (WARNING)>, 'display_name': 'fasterrcnn_weed_detection_final_binary', 'experiment_name': 'jacobs_modded', 'compute': 'shahd-gpu', 'services': {'Tracking': {'endpoint': 'azureml://australiaeast.api.azureml.ms/mlflow/v1.0/subscriptions/e5e26ce6-a1ba-4292-b353-7fa59386c2b9/resourceGroups/ml-course-group/providers/Microsoft.MachineLearningServices/workspaces/ml-course-dev?', 'type': 'Tracking'}, 'Studio': {'endpoint': 'https://ml.azure.com/runs/icy_salt_df505xz5w6?wsid=/subscriptions/e5e26ce6-a1ba-4292-b353-7fa59386c2b9/resourcegroups/ml-course-group/workspaces/ml-course-dev&tid=30472b57-d9f2-48ff-8764-1cd6c22c9a7d', 'type': 'Studio'}}, 'comment': None, 'job_inputs': {'model': 'fasterrcnn', 'data_path': {'type': 'uri_file', 'path': 'azureml://subscriptions/e5e26ce6-a1ba-4292-b353-7fa59386c2b9/resourcegroups/ml-course-group/workspaces/ml-course-dev/datastores/dmmsweeds/paths/datasets/generalized_GOB/student_annotation_converted_train.json', 'mode': 'ro_mount'}, 'train_annotations': {'type': 'uri_file', 'path': 'azureml://subscriptions/e5e26ce6-a1ba-4292-b353-7fa59386c2b9/resourcegroups/ml-course-group/workspaces/ml-course-dev/datastores/dmmsweeds/paths/datasets/generalized_GOB/student_annotation_converted_train.json', 'mode': 'ro_mount'}, 'test_annotations': {'type': 'uri_file', 'path': 'azureml://subscriptions/e5e26ce6-a1ba-4292-b353-7fa59386c2b9/resourcegroups/ml-course-group/workspaces/ml-course-dev/datastores/dmmsweeds/paths/datasets/generalized_GOB/student_annotation_converted_val.json', 'mode': 'ro_mount'}, 'image_root': 'https://mlcoursedev6520355617.blob.core.windows.net/azureml/datasets/generalized_GOB/', 'epochs': '32', 'batch_size': '8', 'lr': '0.001', 'weight_decay': '5e-05', 'step_size': '6', 'gamma': '0.6', 'num_classes': '2'}, 'job_outputs': {'output_dir': {'type': 'uri_folder', 'path': 'azureml://subscriptions/e5e26ce6-a1ba-4292-b353-7fa59386c2b9/resourcegroups/ml-course-group/workspaces/ml-course-dev/datastores/dmmsweeds/paths/datasets/generalized_GOB/Final/', 'mode': 'rw_mount'}, 'default': {'type': 'uri_folder', 'path': 'azureml://datastores/workspaceartifactstore/ExperimentRun/dcid.icy_salt_df505xz5w6', 'mode': 'rw_mount'}}, 'inputs': {'model': <azure.ai.ml.entities._job.pipeline._io.base.NodeInput object at 0x70692ff30c70>, 'data_path': <azure.ai.ml.entities._job.pipeline._io.base.NodeInput object at 0x70692ff31900>, 'train_annotations': <azure.ai.ml.entities._job.pipeline._io.base.NodeInput object at 0x70692ff32740>, 'test_annotations': <azure.ai.ml.entities._job.pipeline._io.base.NodeInput object at 0x70692ff33cd0>, 'image_root': <azure.ai.ml.entities._job.pipeline._io.base.NodeInput object at 0x70692ff30130>, 'epochs': <azure.ai.ml.entities._job.pipeline._io.base.NodeInput object at 0x70692ff322f0>, 'batch_size': <azure.ai.ml.entities._job.pipeline._io.base.NodeInput object at 0x70692ff33400>, 'lr': <azure.ai.ml.entities._job.pipeline._io.base.NodeInput object at 0x70692ff31b40>, 'weight_decay': <azure.ai.ml.entities._job.pipeline._io.base.NodeInput object at 0x70692ff31fc0>, 'step_size': <azure.ai.ml.entities._job.pipeline._io.base.NodeInput object at 0x70692ff306d0>, 'gamma': <azure.ai.ml.entities._job.pipeline._io.base.NodeInput object at 0x70692ff30be0>, 'num_classes': <azure.ai.ml.entities._job.pipeline._io.base.NodeInput object at 0x70692ff32320>}, 'outputs': {'output_dir': <azure.ai.ml.entities._job.pipeline._io.base.NodeOutput object at 0x70692ff30e50>, 'default': <azure.ai.ml.entities._job.pipeline._io.base.NodeOutput object at 0x70692ff31540>}, 'component': CommandComponent({'latest_version': None, 'intellectual_property': None, 'auto_increment_version': True, 'source': 'REMOTE.WORKSPACE.JOB', 'is_anonymous': False, 'auto_delete_setting': None, 'name': 'icy_salt_df505xz5w6', 'description': None, 'tags': {}, 'properties': {}, 'print_as_yaml': False, 'id': None, 'Resource__source_path': None, 'base_path': '/mnt/batch/tasks/shared/LS_root/mounts/clusters/shahd-gpu/code/Users/shahd.sumrain/jacobs_modded', 'creation_context': <azure.ai.ml.entities._system_data.SystemData object at 0x70696ffeb0d0>, 'serialize': <msrest.serialization.Serializer object at 0x70692ff337f0>, 'command': 'python train.py --model ${{inputs.model}} --train_annotations ${{inputs.train_annotations}} --test_annotations ${{inputs.test_annotations}} --data-path ${{inputs.data_path}} --image_root ${{inputs.image_root}} --epochs ${{inputs.epochs}} --batch-size ${{inputs.batch_size}} --lr ${{inputs.lr}} --weight-decay ${{inputs.weight_decay}} --step-size ${{inputs.step_size}} --gamma ${{inputs.gamma}} --num-classes ${{inputs.num_classes}} --output-dir ${{outputs.output_dir}}', 'code': '/subscriptions/e5e26ce6-a1ba-4292-b353-7fa59386c2b9/resourceGroups/ml-course-group/providers/Microsoft.MachineLearningServices/workspaces/ml-course-dev/codes/ea27e010-88c6-4f21-bd83-07ada752ebb9/versions/1', 'environment_variables': {}, 'environment': 'azureml://registries/azureml/environments/acpt-pytorch-2.2-cuda12.1/versions/33', 'distribution': None, 'resources': None, 'queue_settings': None, 'version': None, 'schema': None, 'type': 'command', 'display_name': 'fasterrcnn_weed_detection_final_binary', 'is_deterministic': True, 'inputs': {'model': {'type': 'string', 'default': 'fasterrcnn'}, 'data_path': {'type': 'uri_file', 'path': 'azureml://subscriptions/e5e26ce6-a1ba-4292-b353-7fa59386c2b9/resourcegroups/ml-course-group/workspaces/ml-course-dev/datastores/dmmsweeds/paths/datasets/generalized_GOB/student_annotation_converted_train.json', 'mode': 'ro_mount'}, 'train_annotations': {'type': 'uri_file', 'path': 'azureml://subscriptions/e5e26ce6-a1ba-4292-b353-7fa59386c2b9/resourcegroups/ml-course-group/workspaces/ml-course-dev/datastores/dmmsweeds/paths/datasets/generalized_GOB/student_annotation_converted_train.json', 'mode': 'ro_mount'}, 'test_annotations': {'type': 'uri_file', 'path': 'azureml://subscriptions/e5e26ce6-a1ba-4292-b353-7fa59386c2b9/resourcegroups/ml-course-group/workspaces/ml-course-dev/datastores/dmmsweeds/paths/datasets/generalized_GOB/student_annotation_converted_val.json', 'mode': 'ro_mount'}, 'image_root': {'type': 'string', 'default': 'https://mlcoursedev6520355617.blob.core.windows.net/azureml/datasets/generalized_GOB/'}, 'epochs': {'type': 'string', 'default': '32'}, 'batch_size': {'type': 'string', 'default': '8'}, 'lr': {'type': 'string', 'default': '0.001'}, 'weight_decay': {'type': 'string', 'default': '5e-05'}, 'step_size': {'type': 'string', 'default': '6'}, 'gamma': {'type': 'string', 'default': '0.6'}, 'num_classes': {'type': 'string', 'default': '2'}}, 'outputs': {'output_dir': {'type': 'uri_folder', 'path': 'azureml://subscriptions/e5e26ce6-a1ba-4292-b353-7fa59386c2b9/resourcegroups/ml-course-group/workspaces/ml-course-dev/datastores/dmmsweeds/paths/datasets/generalized_GOB/Final/', 'mode': 'rw_mount'}, 'default': {'type': 'uri_folder', 'path': 'azureml://datastores/workspaceartifactstore/ExperimentRun/dcid.icy_salt_df505xz5w6', 'mode': 'rw_mount'}}, 'yaml_str': None, 'other_parameter': {'status': 'Starting', 'parameters': {}}, 'additional_includes': []}), 'referenced_control_flow_node_instance_id': None, 'kwargs': {'services': {'Tracking': {'endpoint': 'azureml://australiaeast.api.azureml.ms/mlflow/v1.0/subscriptions/e5e26ce6-a1ba-4292-b353-7fa59386c2b9/resourceGroups/ml-course-group/providers/Microsoft.MachineLearningServices/workspaces/ml-course-dev?', 'type': 'Tracking'}, 'Studio': {'endpoint': 'https://ml.azure.com/runs/icy_salt_df505xz5w6?wsid=/subscriptions/e5e26ce6-a1ba-4292-b353-7fa59386c2b9/resourcegroups/ml-course-group/workspaces/ml-course-dev&tid=30472b57-d9f2-48ff-8764-1cd6c22c9a7d', 'type': 'Studio'}}, 'status': 'Starting', 'creation_context': <azure.ai.ml.entities._system_data.SystemData object at 0x70696ffeb0d0>}, 'instance_id': 'cdc1a145-7ad6-44be-99cc-caf090c13f75', 'source': 'BUILDER', 'validate_required_input_not_provided': True, 'limits': None, 'identity': None, 'distribution': None, 'environment_variables': {}, 'environment': 'azureml://registries/azureml/environments/acpt-pytorch-2.2-cuda12.1/versions/33', 'resources': {'instance_count': 1, 'shm_size': '2g'}, 'queue_settings': {'job_tier': 'null'}, 'parent_job_name': None, 'swept': False})"
            ]
          },
          "execution_count": 5,
          "metadata": {},
          "output_type": "execute_result"
        }
      ],
      "source": [
        "ml_client.create_or_update(job)"
      ]
    }
  ],
  "metadata": {
    "kernel_info": {
      "name": "python310-sdkv2"
    },
    "kernelspec": {
      "display_name": "Python 3.10 - SDK v2",
      "language": "python",
      "name": "python310-sdkv2"
    },
    "language_info": {
      "codemirror_mode": {
        "name": "ipython",
        "version": 3
      },
      "file_extension": ".py",
      "mimetype": "text/x-python",
      "name": "python",
      "nbconvert_exporter": "python",
      "pygments_lexer": "ipython3",
      "version": "3.10.16"
    },
    "microsoft": {
      "host": {
        "AzureML": {
          "notebookHasBeenCompleted": true
        }
      },
      "ms_spell_check": {
        "ms_spell_check_language": "en"
      }
    },
    "nteract": {
      "version": "nteract-front-end@1.0.0"
    }
  },
  "nbformat": 4,
  "nbformat_minor": 2
}
